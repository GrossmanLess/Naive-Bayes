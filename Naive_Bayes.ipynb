{
 "cells": [
  {
   "cell_type": "code",
   "execution_count": 116,
   "id": "f5483b55",
   "metadata": {},
   "outputs": [],
   "source": [
    "#The code which is posted at OCS has specific connections to the user_data dataset,\n",
    "#which I was trying to find, but have not got success.... Thus I have decided \n",
    "#to perform popular Naive Bayes types: BernoulliNB, GaussianNB, MultinomialNB"
   ]
  },
  {
   "cell_type": "code",
   "execution_count": 118,
   "id": "b43374b7",
   "metadata": {},
   "outputs": [],
   "source": [
    "# loading libraries\n",
    "from sklearn import datasets\n",
    "from sklearn import metrics\n",
    "from sklearn.model_selection import train_test_split\n",
    "import matplotlib.pyplot as plt\n",
    "import seaborn as sns"
   ]
  },
  {
   "cell_type": "code",
   "execution_count": 120,
   "id": "37f0211b",
   "metadata": {},
   "outputs": [],
   "source": [
    "#here we use the famous iris dataset, which is loaded from sklearn\n",
    "ds = datasets.load_iris()\n",
    "X = ds.data\n",
    "y = ds.target"
   ]
  },
  {
   "cell_type": "code",
   "execution_count": 121,
   "id": "ec370f2c",
   "metadata": {},
   "outputs": [],
   "source": [
    "#here we split the dataset into four sections, with the test size 25%\n",
    "X_train, X_test, y_train, y_test = train_test_split(X, y, test_size=0.25)"
   ]
  },
  {
   "cell_type": "code",
   "execution_count": 122,
   "id": "f78617cf",
   "metadata": {},
   "outputs": [
    {
     "name": "stdout",
     "output_type": "stream",
     "text": [
      "BernoulliNB()\n"
     ]
    }
   ],
   "source": [
    "# here we fit a naive_bayes.BernoulliNB() model to the data\n",
    "Bern = naive_bayes.BernoulliNB()\n",
    "Bern.fit(X_train, y_train)\n",
    "print(Bern)"
   ]
  },
  {
   "cell_type": "code",
   "execution_count": 123,
   "id": "8760cbd2",
   "metadata": {},
   "outputs": [],
   "source": [
    "# here we make predictions\n",
    "Bern_exp_y  = y_test\n",
    "Bern_pred_y = Bern.predict(X_test)"
   ]
  },
  {
   "cell_type": "code",
   "execution_count": 124,
   "id": "995de745",
   "metadata": {},
   "outputs": [
    {
     "name": "stdout",
     "output_type": "stream",
     "text": [
      "naive_bayes.BernoulliNB(): \n",
      "              precision    recall  f1-score   support\n",
      "\n",
      "      setosa       0.32      1.00      0.48        12\n",
      "  versicolor       0.00      0.00      0.00        13\n",
      "   virginica       0.00      0.00      0.00        13\n",
      "\n",
      "    accuracy                           0.32        38\n",
      "   macro avg       0.11      0.33      0.16        38\n",
      "weighted avg       0.10      0.32      0.15        38\n",
      "\n"
     ]
    },
    {
     "name": "stderr",
     "output_type": "stream",
     "text": [
      "/home/user/anaconda3/lib/python3.9/site-packages/sklearn/metrics/_classification.py:1318: UndefinedMetricWarning: Precision and F-score are ill-defined and being set to 0.0 in labels with no predicted samples. Use `zero_division` parameter to control this behavior.\n",
      "  _warn_prf(average, modifier, msg_start, len(result))\n",
      "/home/user/anaconda3/lib/python3.9/site-packages/sklearn/metrics/_classification.py:1318: UndefinedMetricWarning: Precision and F-score are ill-defined and being set to 0.0 in labels with no predicted samples. Use `zero_division` parameter to control this behavior.\n",
      "  _warn_prf(average, modifier, msg_start, len(result))\n",
      "/home/user/anaconda3/lib/python3.9/site-packages/sklearn/metrics/_classification.py:1318: UndefinedMetricWarning: Precision and F-score are ill-defined and being set to 0.0 in labels with no predicted samples. Use `zero_division` parameter to control this behavior.\n",
      "  _warn_prf(average, modifier, msg_start, len(result))\n"
     ]
    }
   ],
   "source": [
    "# here we summarize the fit of the model\n",
    "print('naive_bayes.BernoulliNB(): ')\n",
    "print(metrics.classification_report(Bern_exp_y, Bern_pred_y, target_names=dataset.target_names))\n"
   ]
  },
  {
   "cell_type": "code",
   "execution_count": 125,
   "id": "05da5d2c",
   "metadata": {},
   "outputs": [
    {
     "name": "stdout",
     "output_type": "stream",
     "text": [
      "GaussianNB()\n"
     ]
    }
   ],
   "source": [
    "# here we fit a naive_bayes.GaussianNB() model to the data\n",
    "Gauss = naive_bayes.GaussianNB()\n",
    "Gauss.fit(X_train, y_train)\n",
    "print(Gauss)"
   ]
  },
  {
   "cell_type": "code",
   "execution_count": 126,
   "id": "17c14d67",
   "metadata": {},
   "outputs": [],
   "source": [
    "# here we make predictions\n",
    "Gauss_exp_y  = y_test\n",
    "Gauss_pred_y = Gauss.predict(X_test)"
   ]
  },
  {
   "cell_type": "code",
   "execution_count": 127,
   "id": "28cb042e",
   "metadata": {},
   "outputs": [
    {
     "name": "stdout",
     "output_type": "stream",
     "text": [
      "naive_bayes.GaussianNB(): \n",
      "              precision    recall  f1-score   support\n",
      "\n",
      "      setosa       1.00      1.00      1.00        12\n",
      "  versicolor       0.93      1.00      0.96        13\n",
      "   virginica       1.00      0.92      0.96        13\n",
      "\n",
      "    accuracy                           0.97        38\n",
      "   macro avg       0.98      0.97      0.97        38\n",
      "weighted avg       0.98      0.97      0.97        38\n",
      "\n"
     ]
    }
   ],
   "source": [
    "# here we summarize the fit of the model\n",
    "print('naive_bayes.GaussianNB(): ')\n",
    "print(metrics.classification_report(Gauss_exp_y, Gauss_pred_y, target_names=dataset.target_names))\n",
    "\n"
   ]
  },
  {
   "cell_type": "code",
   "execution_count": 128,
   "id": "06b7bddd",
   "metadata": {},
   "outputs": [
    {
     "name": "stdout",
     "output_type": "stream",
     "text": [
      "MultinomialNB()\n"
     ]
    }
   ],
   "source": [
    "# here we fit a naive_bayes.MultinomialNB() model to the data\n",
    "Mult = naive_bayes.MultinomialNB()\n",
    "Mult.fit(X_train, y_train)\n",
    "print(Mult)"
   ]
  },
  {
   "cell_type": "code",
   "execution_count": 129,
   "id": "fd69d7f2",
   "metadata": {},
   "outputs": [],
   "source": [
    "# here we make predictions\n",
    "Mult_exp_y  = y_test\n",
    "Mult_pred_y = Mult.predict(X_test)"
   ]
  },
  {
   "cell_type": "code",
   "execution_count": 130,
   "id": "cb177368",
   "metadata": {},
   "outputs": [
    {
     "name": "stdout",
     "output_type": "stream",
     "text": [
      "naive_bayes.MultinomialNB(): \n",
      "              precision    recall  f1-score   support\n",
      "\n",
      "      setosa       1.00      1.00      1.00        12\n",
      "  versicolor       1.00      1.00      1.00        13\n",
      "   virginica       1.00      1.00      1.00        13\n",
      "\n",
      "    accuracy                           1.00        38\n",
      "   macro avg       1.00      1.00      1.00        38\n",
      "weighted avg       1.00      1.00      1.00        38\n",
      "\n"
     ]
    }
   ],
   "source": [
    "# here we summarize the fit of the model\n",
    "print('naive_bayes.MultinomialNB(): ')\n",
    "print(metrics.classification_report(Mult_exp_y, Mult_pred_y, target_names=dataset.target_names))\n"
   ]
  },
  {
   "cell_type": "code",
   "execution_count": 131,
   "id": "bf0b9ff8",
   "metadata": {},
   "outputs": [
    {
     "data": {
      "text/plain": [
       "array([[12,  0,  0],\n",
       "       [13,  0,  0],\n",
       "       [13,  0,  0]])"
      ]
     },
     "execution_count": 131,
     "metadata": {},
     "output_type": "execute_result"
    }
   ],
   "source": [
    "# here we build up the BernoulliNB confusion matrix\n",
    "cmBern = confusion_matrix(y_test, Bern_pred_y)\n",
    "cmBern"
   ]
  },
  {
   "cell_type": "code",
   "execution_count": 132,
   "id": "b0666002",
   "metadata": {},
   "outputs": [
    {
     "data": {
      "text/plain": [
       "array([[12,  0,  0],\n",
       "       [ 0, 13,  0],\n",
       "       [ 0,  1, 12]])"
      ]
     },
     "execution_count": 132,
     "metadata": {},
     "output_type": "execute_result"
    }
   ],
   "source": [
    "# here we build up the GaussianNB confusion matrix\n",
    "cmGauss = confusion_matrix(y_test, Gauss_pred_y)\n",
    "cmGauss"
   ]
  },
  {
   "cell_type": "code",
   "execution_count": 133,
   "id": "01711fdb",
   "metadata": {},
   "outputs": [
    {
     "data": {
      "text/plain": [
       "array([[12,  0,  0],\n",
       "       [ 0, 13,  0],\n",
       "       [ 0,  0, 13]])"
      ]
     },
     "execution_count": 133,
     "metadata": {},
     "output_type": "execute_result"
    }
   ],
   "source": [
    "# here we build up the MultinomialNB confusion matrix\n",
    "cmMult = confusion_matrix(y_test, Mult_pred_y)\n",
    "cmMult"
   ]
  },
  {
   "cell_type": "code",
   "execution_count": null,
   "id": "038b2826",
   "metadata": {},
   "outputs": [],
   "source": []
  },
  {
   "cell_type": "code",
   "execution_count": 134,
   "id": "b7f34364",
   "metadata": {},
   "outputs": [],
   "source": [
    "\n"
   ]
  },
  {
   "cell_type": "code",
   "execution_count": 135,
   "id": "280c00cd",
   "metadata": {},
   "outputs": [
    {
     "data": {
      "text/plain": [
       "<AxesSubplot:>"
      ]
     },
     "execution_count": 135,
     "metadata": {},
     "output_type": "execute_result"
    },
    {
     "data": {
      "image/png": "[encoded data removed]",
      "text/plain": [
       "<Figure size 640x480 with 2 Axes>"
      ]
     },
     "metadata": {},
     "output_type": "display_data"
    }
   ],
   "source": [
    "#Visualization for BernoulliNB\n",
    "sns.heatmap(cmBern, annot=True)"
   ]
  },
  {
   "cell_type": "code",
   "execution_count": 136,
   "id": "67706f6a",
   "metadata": {},
   "outputs": [
    {
     "data": {
      "text/plain": [
       "<AxesSubplot:>"
      ]
     },
     "execution_count": 136,
     "metadata": {},
     "output_type": "execute_result"
    },
    {
     "data": {
      "image/png": "[encoded data removed]",
      "text/plain": [
       "<Figure size 640x480 with 2 Axes>"
      ]
     },
     "metadata": {},
     "output_type": "display_data"
    }
   ],
   "source": [
    "#Visualization for GaussianNB\n",
    "import numpy as nm\n",
    "sns.heatmap(cmGauss/nm.sum(cmGauss), annot=True, fmt='.2%', cmap='Greens')"
   ]
  },
  {
   "cell_type": "code",
   "execution_count": 137,
   "id": "f502e365",
   "metadata": {},
   "outputs": [
    {
     "data": {
      "text/plain": [
       "<AxesSubplot:>"
      ]
     },
     "execution_count": 137,
     "metadata": {},
     "output_type": "execute_result"
    },
    {
     "data": {
      "image/png": "[encoded data removed]",
      "text/plain": [
       "<Figure size 640x480 with 2 Axes>"
      ]
     },
     "metadata": {},
     "output_type": "display_data"
    }
   ],
   "source": [
    "#Visualization for MultinomialNB\n",
    "sns.heatmap(cmMult/nm.sum(cmMult), annot=True, fmt='.2%', cmap='Reds')"
   ]
  },
  {
   "cell_type": "code",
   "execution_count": null,
   "id": "4dbc0ace",
   "metadata": {},
   "outputs": [],
   "source": []
  },
  {
   "cell_type": "code",
   "execution_count": null,
   "id": "94445242",
   "metadata": {},
   "outputs": [],
   "source": []
  },
  {
   "cell_type": "code",
   "execution_count": null,
   "id": "1c55462c",
   "metadata": {},
   "outputs": [],
   "source": []
  },
  {
   "cell_type": "code",
   "execution_count": null,
   "id": "50610ae7",
   "metadata": {},
   "outputs": [],
   "source": []
  },
  {
   "cell_type": "code",
   "execution_count": null,
   "id": "6e17f4fe",
   "metadata": {},
   "outputs": [],
   "source": []
  },
  {
   "cell_type": "code",
   "execution_count": null,
   "id": "697f4a97",
   "metadata": {},
   "outputs": [],
   "source": []
  }
 ],
 "metadata": {
  "kernelspec": {
   "display_name": "Python 3 (ipykernel)",
   "language": "python",
   "name": "python3"
  },
  "language_info": {
   "codemirror_mode": {
    "name": "ipython",
    "version": 3
   },
   "file_extension": ".py",
   "mimetype": "text/x-python",
   "name": "python",
   "nbconvert_exporter": "python",
   "pygments_lexer": "ipython3",
   "version": "3.9.12"
  }
 },
 "nbformat": 4,
 "nbformat_minor": 5
}
